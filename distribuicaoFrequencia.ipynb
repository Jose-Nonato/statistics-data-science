{
 "cells": [
  {
   "attachments": {},
   "cell_type": "markdown",
   "metadata": {},
   "source": [
    "# Distribuição de Frequência\n",
    "Transformar uma variável númerica em categorias, ou seja, em intervalos de valores.\n",
    "### Nomenclaturas importantes\n",
    "* Classe: intervalo de variação da variável representados simbolicamente por i\n",
    "* Limite de Classe: l1 = 150(limite inferior) e L2 = 158(limite superior)\n",
    "* Amplitude de um intervalo (hi): hi = Li - li\n",
    "* Amplitude total da distribuição (AT): AT = L(max) - L(min)\n",
    "* Ponto Médio de uma classe (Xi): Xi = (Li + li) / 2"
   ]
  },
  {
   "cell_type": "code",
   "execution_count": 1,
   "metadata": {},
   "outputs": [],
   "source": [
    "import numpy as np\n",
    "import pandas as pd\n",
    "import matplotlib.pyplot as plt\n",
    "import seaborn as sns"
   ]
  },
  {
   "cell_type": "code",
   "execution_count": 2,
   "metadata": {},
   "outputs": [
    {
     "data": {
      "text/plain": [
       "array([160, 165, 167, 164, 160, 166, 160, 161, 150, 152, 173, 160, 155,\n",
       "       164, 168, 162, 161, 168, 163, 156, 155, 169, 151, 170, 164, 155,\n",
       "       152, 163, 160, 155, 157, 156, 158, 158, 161, 154, 161, 156, 172,\n",
       "       153])"
      ]
     },
     "execution_count": 2,
     "metadata": {},
     "output_type": "execute_result"
    }
   ],
   "source": [
    "# Array com o tamanho de pessoas em uma sala\n",
    "dados = np.array([160, 165, 167, 164, 160, 166, 160, 161, 150, 152, 173, 160, 155,\n",
    "                  164, 168, 162, 161, 168, 163, 156, 155, 169, 151, 170, 164,\n",
    "                  155, 152, 163, 160, 155, 157, 156, 158, 158, 161, 154, 161, 156, 172, 153])\n",
    "dados"
   ]
  },
  {
   "cell_type": "code",
   "execution_count": 3,
   "metadata": {},
   "outputs": [
    {
     "data": {
      "text/plain": [
       "array([150, 151, 152, 152, 153, 154, 155, 155, 155, 155, 156, 156, 156,\n",
       "       157, 158, 158, 160, 160, 160, 160, 160, 161, 161, 161, 161, 162,\n",
       "       163, 163, 164, 164, 164, 165, 166, 167, 168, 168, 169, 170, 172,\n",
       "       173])"
      ]
     },
     "execution_count": 3,
     "metadata": {},
     "output_type": "execute_result"
    }
   ],
   "source": [
    "# Ordenação\n",
    "dados = np.sort(dados)\n",
    "dados"
   ]
  },
  {
   "cell_type": "code",
   "execution_count": 4,
   "metadata": {},
   "outputs": [
    {
     "data": {
      "text/plain": [
       "(150, 173)"
      ]
     },
     "execution_count": 4,
     "metadata": {},
     "output_type": "execute_result"
    }
   ],
   "source": [
    "# Pegando o valor minimo e o valor maximo\n",
    "minimo = dados.min()\n",
    "maximo = dados.max()\n",
    "minimo, maximo"
   ]
  },
  {
   "cell_type": "code",
   "execution_count": 5,
   "metadata": {},
   "outputs": [
    {
     "data": {
      "text/plain": [
       "(array([150, 151, 152, 153, 154, 155, 156, 157, 158, 160, 161, 162, 163,\n",
       "        164, 165, 166, 167, 168, 169, 170, 172, 173]),\n",
       " array([1, 1, 2, 1, 1, 4, 3, 1, 2, 5, 4, 1, 2, 3, 1, 1, 1, 2, 1, 1, 1, 1],\n",
       "       dtype=int64))"
      ]
     },
     "execution_count": 5,
     "metadata": {},
     "output_type": "execute_result"
    }
   ],
   "source": [
    "# Contagem de cada valor, ou seja a frequência em cada tamanho\n",
    "np.unique(dados, return_counts=True)"
   ]
  },
  {
   "cell_type": "code",
   "execution_count": 6,
   "metadata": {},
   "outputs": [
    {
     "data": {
      "text/plain": [
       "6.286797971382275"
      ]
     },
     "execution_count": 6,
     "metadata": {},
     "output_type": "execute_result"
    }
   ],
   "source": [
    "# Número de classe -> Formula de Sturges -> i = 1 + 3.3 * log(n)\n",
    "n = len(dados) # Quantidade de registros\n",
    "i = 1 + 3.3 * np.log10(n)\n",
    "i"
   ]
  },
  {
   "cell_type": "code",
   "execution_count": 7,
   "metadata": {},
   "outputs": [
    {
     "data": {
      "text/plain": [
       "6"
      ]
     },
     "execution_count": 7,
     "metadata": {},
     "output_type": "execute_result"
    }
   ],
   "source": [
    "i = round(i)\n",
    "i"
   ]
  },
  {
   "cell_type": "code",
   "execution_count": 8,
   "metadata": {},
   "outputs": [
    {
     "data": {
      "text/plain": [
       "23"
      ]
     },
     "execution_count": 8,
     "metadata": {},
     "output_type": "execute_result"
    }
   ],
   "source": [
    "# Amplitude do Intervalo\n",
    "AA = maximo - minimo\n",
    "AA"
   ]
  },
  {
   "cell_type": "code",
   "execution_count": 9,
   "metadata": {},
   "outputs": [
    {
     "data": {
      "text/plain": [
       "3.8333333333333335"
      ]
     },
     "execution_count": 9,
     "metadata": {},
     "output_type": "execute_result"
    }
   ],
   "source": [
    "h = AA / i\n",
    "h"
   ]
  },
  {
   "cell_type": "code",
   "execution_count": 10,
   "metadata": {},
   "outputs": [
    {
     "data": {
      "text/plain": [
       "4"
      ]
     },
     "execution_count": 10,
     "metadata": {},
     "output_type": "execute_result"
    }
   ],
   "source": [
    "import math \n",
    "h = math.ceil(h)\n",
    "h"
   ]
  },
  {
   "cell_type": "code",
   "execution_count": 11,
   "metadata": {},
   "outputs": [
    {
     "data": {
      "text/plain": [
       "array([150, 154, 158, 162, 166, 170, 174])"
      ]
     },
     "execution_count": 11,
     "metadata": {},
     "output_type": "execute_result"
    }
   ],
   "source": [
    "# Construção da Distribuição de frequência\n",
    "intervalos = np.arange(minimo, maximo + 2, step=h)\n",
    "intervalos"
   ]
  },
  {
   "cell_type": "code",
   "execution_count": 12,
   "metadata": {},
   "outputs": [],
   "source": [
    "intervalo1, intervalo2, intervalo3, intervalo4, intervalo5, intervalo6 = 0,0,0,0,0,0\n",
    "for i in range(n):\n",
    "    if dados[i] >= intervalos[0] and dados[i] < intervalos[1]:\n",
    "        intervalo1 += 1\n",
    "    elif dados[i] >= intervalos[1] and dados[i] < intervalos[2]:\n",
    "        intervalo2 += 1\n",
    "    elif dados[i] >= intervalos[2] and dados[i] < intervalos[3]:\n",
    "        intervalo3 += 1\n",
    "    elif dados[i] >= intervalos[3] and dados[i] < intervalos[4]:\n",
    "        intervalo4 += 1\n",
    "    elif dados[i] >= intervalos[4] and dados[i] < intervalos[5]:\n",
    "        intervalo5 += 1\n",
    "    elif dados[i] >= intervalos[5] and dados[i] < intervalos[6]:\n",
    "        intervalo6 += 1"
   ]
  },
  {
   "cell_type": "code",
   "execution_count": 13,
   "metadata": {},
   "outputs": [
    {
     "data": {
      "text/plain": [
       "[5, 9, 11, 7, 5, 3]"
      ]
     },
     "execution_count": 13,
     "metadata": {},
     "output_type": "execute_result"
    }
   ],
   "source": [
    "lista_intervalos = []\n",
    "lista_intervalos.append(intervalo1)\n",
    "lista_intervalos.append(intervalo2)\n",
    "lista_intervalos.append(intervalo3)\n",
    "lista_intervalos.append(intervalo4)\n",
    "lista_intervalos.append(intervalo5)\n",
    "lista_intervalos.append(intervalo6)\n",
    "lista_intervalos"
   ]
  },
  {
   "cell_type": "code",
   "execution_count": 14,
   "metadata": {},
   "outputs": [],
   "source": [
    "# Intervalos de Valores\n",
    "lista_classes = []\n",
    "for i in range(len(lista_intervalos)):\n",
    "  lista_classes.append(str(intervalos[i]) + '-' + str(intervalos[i + 1]))"
   ]
  },
  {
   "cell_type": "code",
   "execution_count": 15,
   "metadata": {},
   "outputs": [
    {
     "data": {
      "text/plain": [
       "['150-154', '154-158', '158-162', '162-166', '166-170', '170-174']"
      ]
     },
     "execution_count": 15,
     "metadata": {},
     "output_type": "execute_result"
    }
   ],
   "source": [
    "lista_classes"
   ]
  },
  {
   "cell_type": "code",
   "execution_count": 16,
   "metadata": {},
   "outputs": [
    {
     "data": {
      "text/plain": [
       "Text(0, 0.5, 'Valores')"
      ]
     },
     "execution_count": 16,
     "metadata": {},
     "output_type": "execute_result"
    },
    {
     "data": {
      "image/png": "[encoded data removed]",
      "text/plain": [
       "<Figure size 720x576 with 1 Axes>"
      ]
     },
     "metadata": {
      "needs_background": "light"
     },
     "output_type": "display_data"
    }
   ],
   "source": [
    "# Plotando Gráfico\n",
    "plt.figure(figsize=(10,8))\n",
    "plt.bar(lista_classes, lista_intervalos)\n",
    "plt.title('Distribuição de Frequência - Historigrama')\n",
    "plt.xlabel('Intervalos')\n",
    "plt.ylabel('Valores')"
   ]
  },
  {
   "attachments": {},
   "cell_type": "markdown",
   "metadata": {},
   "source": [
    "### Distribuição de Frequência e Historigrama - Matplotlib e Numpy"
   ]
  },
  {
   "cell_type": "code",
   "execution_count": 17,
   "metadata": {},
   "outputs": [],
   "source": [
    "dados = np.array([160, 165, 167, 164, 160, 166, 160, 161, 150, 152, 173, 160, 155,\n",
    "                  164, 168, 162, 161, 168, 163, 156, 155, 169, 151, 170, 164,\n",
    "                  155, 152, 163, 160, 155, 157, 156, 158, 158, 161, 154, 161, 156, 172, 153])"
   ]
  },
  {
   "cell_type": "code",
   "execution_count": 19,
   "metadata": {},
   "outputs": [
    {
     "data": {
      "text/plain": [
       "(array([4, 2, 7, 3, 9, 3, 5, 3, 2, 2], dtype=int64),\n",
       " array([150. , 152.3, 154.6, 156.9, 159.2, 161.5, 163.8, 166.1, 168.4,\n",
       "        170.7, 173. ]),\n",
       " 11)"
      ]
     },
     "execution_count": 19,
     "metadata": {},
     "output_type": "execute_result"
    }
   ],
   "source": [
    "frequencia, classes = np.histogram(dados)\n",
    "frequencia, classes, len(classes)"
   ]
  },
  {
   "cell_type": "code",
   "execution_count": 21,
   "metadata": {},
   "outputs": [
    {
     "data": {
      "image/png": "[encoded data removed]",
      "text/plain": [
       "<Figure size 432x288 with 1 Axes>"
      ]
     },
     "metadata": {
      "needs_background": "light"
     },
     "output_type": "display_data"
    }
   ],
   "source": [
    "plt.hist(dados, bins=classes);"
   ]
  },
  {
   "cell_type": "code",
   "execution_count": 22,
   "metadata": {},
   "outputs": [
    {
     "data": {
      "text/plain": [
       "(array([ 6, 10, 12,  8,  4], dtype=int64),\n",
       " array([150. , 154.6, 159.2, 163.8, 168.4, 173. ]),\n",
       " 6)"
      ]
     },
     "execution_count": 22,
     "metadata": {},
     "output_type": "execute_result"
    }
   ],
   "source": [
    "frequencia, classes = np.histogram(dados, bins=5)\n",
    "frequencia, classes, len(classes)"
   ]
  },
  {
   "cell_type": "code",
   "execution_count": 23,
   "metadata": {},
   "outputs": [
    {
     "data": {
      "text/plain": [
       "(array([ 6., 10., 12.,  8.,  4.]),\n",
       " array([150. , 154.6, 159.2, 163.8, 168.4, 173. ]),\n",
       " <BarContainer object of 5 artists>)"
      ]
     },
     "execution_count": 23,
     "metadata": {},
     "output_type": "execute_result"
    },
    {
     "data": {
      "image/png": "[encoded data removed]",
      "text/plain": [
       "<Figure size 432x288 with 1 Axes>"
      ]
     },
     "metadata": {
      "needs_background": "light"
     },
     "output_type": "display_data"
    }
   ],
   "source": [
    "plt.hist(dados, classes)"
   ]
  },
  {
   "attachments": {},
   "cell_type": "markdown",
   "metadata": {},
   "source": [
    "### Distribuição de Frequência e Historigrama - Pandas e Seaborn"
   ]
  },
  {
   "cell_type": "code",
   "execution_count": 25,
   "metadata": {},
   "outputs": [
    {
     "data": {
      "text/html": [
       "<div>\n",
       "<style scoped>\n",
       "    .dataframe tbody tr th:only-of-type {\n",
       "        vertical-align: middle;\n",
       "    }\n",
       "\n",
       "    .dataframe tbody tr th {\n",
       "        vertical-align: top;\n",
       "    }\n",
       "\n",
       "    .dataframe thead th {\n",
       "        text-align: right;\n",
       "    }\n",
       "</style>\n",
       "<table border=\"1\" class=\"dataframe\">\n",
       "  <thead>\n",
       "    <tr style=\"text-align: right;\">\n",
       "      <th></th>\n",
       "      <th>dados</th>\n",
       "    </tr>\n",
       "  </thead>\n",
       "  <tbody>\n",
       "    <tr>\n",
       "      <th>0</th>\n",
       "      <td>160</td>\n",
       "    </tr>\n",
       "    <tr>\n",
       "      <th>1</th>\n",
       "      <td>165</td>\n",
       "    </tr>\n",
       "    <tr>\n",
       "      <th>2</th>\n",
       "      <td>167</td>\n",
       "    </tr>\n",
       "    <tr>\n",
       "      <th>3</th>\n",
       "      <td>164</td>\n",
       "    </tr>\n",
       "    <tr>\n",
       "      <th>4</th>\n",
       "      <td>160</td>\n",
       "    </tr>\n",
       "  </tbody>\n",
       "</table>\n",
       "</div>"
      ],
      "text/plain": [
       "   dados\n",
       "0    160\n",
       "1    165\n",
       "2    167\n",
       "3    164\n",
       "4    160"
      ]
     },
     "execution_count": 25,
     "metadata": {},
     "output_type": "execute_result"
    }
   ],
   "source": [
    "df = pd.DataFrame({'dados': dados})\n",
    "df.head()"
   ]
  },
  {
   "cell_type": "code",
   "execution_count": 26,
   "metadata": {},
   "outputs": [
    {
     "data": {
      "image/png": "[encoded data removed]",
      "text/plain": [
       "<Figure size 432x288 with 1 Axes>"
      ]
     },
     "metadata": {
      "needs_background": "light"
     },
     "output_type": "display_data"
    }
   ],
   "source": [
    "df.plot.hist();"
   ]
  },
  {
   "cell_type": "code",
   "execution_count": 30,
   "metadata": {},
   "outputs": [
    {
     "data": {
      "text/plain": [
       "<seaborn.axisgrid.FacetGrid at 0x21fe0de6f70>"
      ]
     },
     "execution_count": 30,
     "metadata": {},
     "output_type": "execute_result"
    },
    {
     "data": {
      "image/png": "[encoded data removed]",
      "text/plain": [
       "<Figure size 426.125x360 with 1 Axes>"
      ]
     },
     "metadata": {
      "needs_background": "light"
     },
     "output_type": "display_data"
    }
   ],
   "source": [
    "sns.displot(df)"
   ]
  }
 ],
 "metadata": {
  "kernelspec": {
   "display_name": "Python 3",
   "language": "python",
   "name": "python3"
  },
  "language_info": {
   "codemirror_mode": {
    "name": "ipython",
    "version": 3
   },
   "file_extension": ".py",
   "mimetype": "text/x-python",
   "name": "python",
   "nbconvert_exporter": "python",
   "pygments_lexer": "ipython3",
   "version": "3.9.13"
  },
  "orig_nbformat": 4,
  "vscode": {
   "interpreter": {
    "hash": "f2609e5b435c93a047570fa2639d8fd67d57d60e828c513250a814560dea39f8"
   }
  }
 },
 "nbformat": 4,
 "nbformat_minor": 2
}
